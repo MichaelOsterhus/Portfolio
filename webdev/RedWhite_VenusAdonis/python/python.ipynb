{
 "cells": [
  {
   "cell_type": "markdown",
   "metadata": {},
   "source": [
    "# Counting the number of unique words in Shakespeare's Venus and Adonis"
   ]
  },
  {
   "cell_type": "code",
   "execution_count": 30,
   "metadata": {},
   "outputs": [],
   "source": [
    "from collections import Counter\n",
    "import re\n",
    "import csv"
   ]
  },
  {
   "cell_type": "markdown",
   "metadata": {},
   "source": [
    "## Count Unique Words"
   ]
  },
  {
   "cell_type": "code",
   "execution_count": 3,
   "metadata": {},
   "outputs": [],
   "source": [
    "# Function to read text from a file\n",
    "def read_text_from_file(file_path):\n",
    "    with open(file_path, 'r', encoding='utf-8') as file:\n",
    "        text = file.read()\n",
    "    return text\n",
    "\n",
    "# Path to the text file\n",
    "file_path = 'text.txt'\n",
    "\n",
    "# Read the text from the file\n",
    "text = read_text_from_file(file_path)"
   ]
  },
  {
   "cell_type": "code",
   "execution_count": 9,
   "metadata": {},
   "outputs": [
    {
     "name": "stdout",
     "output_type": "stream",
     "text": [
      "Results have been saved to outputfile.csv\n"
     ]
    }
   ],
   "source": [
    "\n",
    "# Remove punctuation and convert to lower case\n",
    "cleaned_text = re.sub(r'[^\\w\\s]', '', text).lower()\n",
    "\n",
    "# Split the text into words\n",
    "words = cleaned_text.split()\n",
    "\n",
    "# Count the occurrences of each word\n",
    "word_counts = Counter(words)\n",
    "\n",
    "# Number of unique words\n",
    "num_unique_words = len(word_counts)\n",
    "\n",
    "# Sort the word counts by highest count\n",
    "sorted_word_counts = sorted(word_counts.items(), key=lambda item: item[1], reverse=True)\n",
    "\n",
    "csv_file_path = 'outputfile.csv'\n",
    "\n",
    "# Write the results to a CSV file\n",
    "with open(csv_file_path, 'w', newline='', encoding='utf-8') as csvfile:\n",
    "    csvwriter = csv.writer(csvfile)\n",
    "    # Write the header\n",
    "    csvwriter.writerow(['Word', 'Count'])\n",
    "    # Write the word counts\n",
    "    for word, count in sorted_word_counts:\n",
    "        csvwriter.writerow([word, count])\n",
    "\n",
    "# Display a message indicating that the results have been saved\n",
    "print(f\"Results have been saved to {csv_file_path}\")"
   ]
  },
  {
   "cell_type": "markdown",
   "metadata": {},
   "source": [
    "## Convert CSV to HTML"
   ]
  },
  {
   "cell_type": "code",
   "execution_count": 1,
   "metadata": {},
   "outputs": [],
   "source": [
    "import pandas as pd"
   ]
  },
  {
   "cell_type": "code",
   "execution_count": 3,
   "metadata": {},
   "outputs": [
    {
     "ename": "NameError",
     "evalue": "name 'pd' is not defined",
     "output_type": "error",
     "traceback": [
      "\u001b[1;31m---------------------------------------------------------------------------\u001b[0m",
      "\u001b[1;31mNameError\u001b[0m                                 Traceback (most recent call last)",
      "Cell \u001b[1;32mIn[3], line 2\u001b[0m\n\u001b[0;32m      1\u001b[0m \u001b[38;5;66;03m# Read the CSV file\u001b[39;00m\n\u001b[1;32m----> 2\u001b[0m df \u001b[38;5;241m=\u001b[39m \u001b[43mpd\u001b[49m\u001b[38;5;241m.\u001b[39mread_csv(\u001b[38;5;124m'\u001b[39m\u001b[38;5;124mcolors.csv\u001b[39m\u001b[38;5;124m'\u001b[39m)\n\u001b[0;32m      4\u001b[0m \u001b[38;5;66;03m# Convert the DataFrame to an HTML table\u001b[39;00m\n\u001b[0;32m      5\u001b[0m html_table \u001b[38;5;241m=\u001b[39m df\u001b[38;5;241m.\u001b[39mto_html()\n",
      "\u001b[1;31mNameError\u001b[0m: name 'pd' is not defined"
     ]
    }
   ],
   "source": [
    "# Read the CSV file\n",
    "df = pd.read_csv('colors.csv')\n",
    "\n",
    "# Convert the DataFrame to an HTML table\n",
    "html_table = df.to_html()\n",
    "\n",
    "# Save the HTML table to a file\n",
    "with open('output.html', 'w') as f:\n",
    "    f.write(html_table)"
   ]
  },
  {
   "cell_type": "markdown",
   "metadata": {},
   "source": [
    "## Group Lines/Stanzas"
   ]
  },
  {
   "cell_type": "code",
   "execution_count": 32,
   "metadata": {},
   "outputs": [
    {
     "name": "stdout",
     "output_type": "stream",
     "text": [
      "Raw poem text:\n",
      "{'Stanza 1': ['even as the sun with purplecolourd face', 'had taen his last leave of the weeping morn', 'rosecheekd adonis tried him to the chase', 'hunting he lovd but love he laughd to scorn ', '   sickthoughted venus makes amain unto him', '   and like a boldfacd suitor gins to woo him'], 'Stanza 2': ['thrice fairer than myself thus she began', 'the fields chief flower sweet above compare   ', 'stain to all nymphs more lovely than a man', 'more white and red than doves or roses are', '   nature that made thee with herself at strife', '   saith that the world hath ending with thy life'], 'Stanza 3': ['vouchsafe thou wonder to alight thy steed', 'and rein his proud head to the saddlebow', 'if thou wilt deign this favour for thy meed', 'a thousand honey secrets shalt thou know    ', 'here come and sit where never serpent hisses', 'and being set ill smother thee with kisses'], 'Stanza 4': ['and yet not cloy thy lips with loathd satiety', 'but rather famish them amid their plenty    ', 'making them red and pale with fresh variety', 'ten kisses short as one one long as twenty', '   a summers day will seem an hour but short', '   being wasted in such timebeguiling sport'], 'Stanza 5': ['with this she seizeth on his sweating palm', 'the precedent of pith and livelihood', 'and trembling in her passion calls it balm', 'earths sovereign salve to do a goddess good', '   being so enragd desire doth lend her force', '   courageously to pluck him from his horse'], 'Stanza 6': ['over one arm the lusty coursers rein', 'under her other was the tender boy', 'who blushd and pouted in a dull disdain', 'with leaden appetite unapt to toy', '   she red and hot as coals of glowing fire', '   he red for shame but frosty in desire'], 'Stanza 7': ['the studded bridle on a ragged bough', 'nimbly she fastenso how quick is love', 'the steed is stalled up and even now', 'to tie the rider she begins to prove  ', '   backward she pushd him as she would be thrust', '   and governd him in strength though not in lust'], 'Stanza 8': ['so soon was she along as he was down', 'each leaning on their elbows and their hips', 'now doth she stroke his cheek now doth he frown', 'and gins to chide but soon she stops his lips', 'and kissing speaks with lustful language broken', 'if thou wilt chide thy lips shall never open '], 'Stanza 9': ['he burns with bashful shame she with her tears', 'doth quench the maiden burning of his cheeks', 'then with her windy sighs and golden hairs', 'to fan and blow them dry again she seeks  ', '   he saith she is immodest blames her miss', '   what follows more she murders with a kiss'], 'Stanza 10': ['even as an empty eagle sharp by fast', 'tires with her beak on feathers flesh and bone ', 'shaking her wings devouring all in haste', 'till either gorge be stuffd or prey be gone', 'even so she kissd his brow his cheek his chin', 'and where she ends she doth anew begin  '], 'Stanza 11': ['forcd to content but never to obey', 'panting he lies and breatheth in her face', 'she feedeth on the steam as on a prey', 'and calls it heavenly moisture air of grace', '   wishing her cheeks were gardens full of flowers', '   so they were dewd with such distilling showers'], 'Stanza 12': ['look how a bird lies tangled in a net', 'so fastend in her arms adonis lies', 'pure shame and awd resistance made him fret', 'which bred more beauty in his angry eyes', '   rain added to a river that is rank', '   perforce will force it overflow the bank  '], 'Stanza 13': [' ', 'still she entreats and prettily entreats', 'for to a pretty ear she tunes her tale', 'still is he sullen still he lours and frets', 'twixt crimson shame and anger ashypale    ', '   being red she loves him best and being white', '   her best is betterd with a more delight'], 'Stanza 14': ['look how he can she cannot choose but love', 'and by her fair immortal hand she swears    ', 'from his soft bosom never to remove', 'till he take truce with her contending tears', '   which long have raind making her cheeks all wet', '   and one sweet kiss shall pay this countless debt'], 'Stanza 15': ['upon this promise did he raise his chin  ', 'like a divedapper peering through a wave', 'who being lookd on ducks as quickly in', 'so offers he to give what she did crave', '   but when her lips were ready for his pay', '   he winks and turns his lips another way'], 'Stanza 16': ['never did passenger in summers heat', 'more thirst for drink than she for this good turn   ', 'her help she sees but help she cannot get', 'she bathes in water yet her fire must burn', '   o pity gan she cry flinthearted boy', '   tis but a kiss i beg why art thou coy   '], 'Stanza 17': ['i have been wood as i entreat thee now', 'even by the stern and direful god of war', 'whose sinewy neck in battle neer did bow', 'who conquers where he comes in every jar    ', '   yet hath he been my captive and my slave', '   and beggd for that which thou unaskd shalt have'], 'Stanza 18': ['over my altars hath he hung his lance', 'his batterd shield his uncontrolled crest', 'and for my sake hath learnd to sport and dance', 'to toy to wanton dally smile and jest', '   scorning his churlish drum and ensign red', '   making my arms his field his tent my bed'], 'Stanza 19': ['thus he that overruld i overswayd', 'leading him prisoner in a redrose chain', 'strongtemperd steel his stronger strength obeyd', 'yet was he servile to my coy disdain   ', '   o be not proud nor brag not of thy might', '   for mastering her that foild the god of fight'], 'Stanza 20': ['touch but my lips with those falr lips of thine', 'though mine be not so fair yet are they red ', 'the kiss shall be thine own as well as mine', 'what seest thou in the ground hold up thy head', '   look in mine eyeballs there thy beauty lies', '   then why not lips on lips since eyes in eyes'], 'Stanza 21': ['art thou ashamd to kiss then wink again', 'and i will wink so shall the day seem night', 'love keeps his revels where there are but twain', 'be bold to play our sport is not in sight', '   these blueveind violets whereon we lean', '   never can blab nor know not what we mean'], 'Stanza 22': ['the tender spring upon thy tempting lip    ', 'shows thee unripe yet mayst thou well be tasted', 'make use of time let not advantage slip', 'beauty within itself should not be wasted', '   fair flowers that are not gatherd in their prime', '   rot and consume themselves in little time'], 'Stanza 23': ['were i hardfavourd foul or wrinkledold', 'illnurturd crooked churlish harsh in voice', 'oerworn despised rheumatic and cold', 'thicksighted barren lean and lacking juice ', '   then mightst thou pause for then i were not for thee', '   but having no defects why dost abhor me'], 'Stanza 24': ['thou canst not see one winkle in my brow  ', 'mine eyes are grey and bright and quick in turning', 'my beauty as the spring doth yearly grow', 'my flesh is soft and plump my marrow burning', '   my smooth moist hand were it with thy hand felt', '   would in thy palm dissolve or seem to melt  '], 'Stanza 25': ['bid me discourse i will enchant thine ear', 'or like a fairy trip upon the green', 'or like a nymph with long dishevelld hair', 'dance on the sands and yet no footing seen', '   love is a spirit all compact of fire', '   not gross to sink but light and will aspire'], 'Stanza 26': ['witness this primrose bank whereon i lie  ', 'these forceless flowers like sturdy trees support me', 'two strengthless doves will draw me through the sky', 'from morn till night even where i list to sport me', '   is love so light sweet boy and may it be', '   that thou shouldst think it heavy unto thee  '], 'Stanza 27': ['is thine own heart to shine own face affected', 'can thy right hand seize love upon thy left', 'then woo thyself be of thyself rejected', 'steal thine own freedom and complain on theft ', '   narcissus so himself himself forsook', '   and died to kiss his shadow in the brook'], 'Stanza 28': ['torches are made to light jewels to wear', 'dainties to taste fresh beauty for the use', 'herbs for their smell and sappy plants to bear', 'things growing to themselves are growths abuse', '   seeds spring from seeds and beauty breedeth beauty', '   thou wast begot to get it is thy duty   '], 'Stanza 29': ['upon the earths increase why shouldst thou feed', 'unless the earth with thy increase be fed', 'by law of nature thou art bound to breed', 'that thine may live when thou thyself art dead ', '   and so in spite of death thou dost survive', '   in that thy likeness still is left alive'], 'Stanza 30': ['by this the lovesick queen began to sweat', 'for where they lay the shadow had forsook them ', 'and titan tired in the midday heat', 'with burning eye did hotly overlook them', '   wishing adonis had his team to guide', '   so he were like him and by venus side   '], 'Stanza 31': ['and now adonis with a lazy spright', 'and with a heavy dark disliking eye', 'his louring brows oerwhelming his fair sight', 'like misty vapours when they blot the sky  ', '   souring his cheeks cries fie no more of love', '   the sun doth burn my face i must remove'], 'Stanza 32': ['ay me quoth venus young and so unkind', 'what bare excuses makst thou to be gone   ', 'ill sigh celestial breath whose gentle wind', 'shall cool the heat of this descending sun', '   ill make a shadow for thee of my hairs  ', '   if they burn too ill quench them with my tears'], 'Stanza 33': ['the sun that shines from heaven shines but warm', 'and lo i lie between that sun and thee', 'the heat i have from thence doth little harm', 'thine eye darts forth the fire that burneth me ', '   and were i not immortal life were done', '   between this heavenly and earthly sun'], 'Stanza 34': ['art thou obdurate flinty hard as steel', 'nay more than flint for stone at rain relenteth  ', 'art thou a womans son and canst not feel', 'what tis to love how want of love tormenteth', '   o had thy mother borne so hard a mind   ', '   she had not brought forth thee but died unkind'], 'Stanza 35': [' ', 'what am i that thou shouldst contemn me this', 'or what great danger dwells upon my suit', 'what were thy lips the worse for one poor kiss', '   speak fair but speak fair words or else be mute', '   give me one kiss ill give it thee again', 'and one for interest if thou wilt have twain'], 'Stanza 36': ['fie lifeless picture cold and senseless stone', 'wellpainted idol image dull and dead', 'statue contenting but the eye alone', 'thing like a man but of no woman bred', '   thou art no man though of a mans complexion', '   for men will kiss even by their own direction   '], 'Stanza 37': ['this said impatience chokes her pleading tongue', 'and swelling passion doth provoke a pause', 'red cheeks and fiery eyes blaze forth her wrong', 'being judge in love she cannot right her cause', '   and now she weeps and now she fain would speak', '   and now her sobs do her intendments break'], 'Stanza 38': ['sometimes she shakes her head and then his hand', 'now gazeth she on him now on the ground   ', 'sometimes her arms infold him like a band', 'she would he will not in her arms be bound', '   and when from thence he struggles to be gone', '   she locks her lily fingers one in one    '], 'Stanza 39': ['fondling she saith since i have hemmd thee here', 'within the circuit of this ivory pale', 'ill be a park and thou shalt be my deer', 'feed where thou wilt on mountain or in dale   ', '   graze on my lips and if those hills be dry', '   stray lower where the pleasant fountains lie'], 'Stanza 40': ['within this limit is relief enough', 'sweet bottomgrass and high delightful plain   ', 'round rising hillocks brakes obscure and rough', 'to shelter thee from tempest and from rain', '   then be my deer since i am such a park  ', '   no dog shall rouse thee though a thousand bark'], 'Stanza 41': ['at this adonis smiles as in disdain', 'that in each cheek appears a pretty dimple', 'love made those hollows if himself were slain', 'he might be buried in a tomb so simple', '   foreknowing well if there he came to lie', '   why there love livd and there he could not die'], 'Stanza 42': ['these lovely caves these round enchanting pits', 'opend their mouths to swallow venus liking   ', 'being mad before how doth she now for wits', 'struck dead at first what needs a second striking', '   poor queen of love in thine own law forlorn', '   to love a cheek that smiles at thee in scorn '], 'Stanza 43': ['now which way shall she turn what shall she say', 'her words are done her woes the more increasing', 'the time is spent her object will away', 'and from her twining arms doth urge releasing  ', '   pity she cries some favour some remorse', '   away he springs and hasteth to his horse'], 'Stanza 44': ['but lo from forth a copse that neighbours by', 'a breeding jennet lusty young and proud', 'adonis tramping courier doth espy', 'and forth she rushes snorts and neighs aloud', '   the strongneckd steed being tied unto a tree', '   breaketh his rein and to her straight goes he   '], 'Stanza 45': ['imperiously he leaps he neighs he bounds', 'and now his woven girths he breaks asunder', 'the bearing earth with his hard hoof he wounds', 'whose hollow womb resounds like heavens thunder', '   the iron bit he crusheth tween his teeth', '   controlling what he was controlled with'], 'Stanza 46': ['his ears upprickd his braided hanging mane', 'upon his compassd crest now stand on end  ', 'his nostrils drink the air and forth again', 'as from a furnace vapours doth he send', '   his eye which scornfully glisters like fire', '   shows his hot courage and his high desire'], 'Stanza 47': ['sometime he trots as if he told the steps', 'with gentle majesty and modest pride', 'anon he rears upright curvets and leaps', 'as who should say lo thus my strength is tried', '   and this i do to captivate the eye    ', '   of the fair breeder that is standing by'], 'Stanza 48': ['what recketh he his riders angry stir', 'his flattering holla or his stand i say  ', 'what cares he now for curb or pricking spur', 'for rich caparisons or trapping gay', '   he sees his love and nothing else he sees', '   nor nothing else with his proud sight agrees '], 'Stanza 49': ['look when a painter would surpass the life', 'in limning out a wellproportiond steed', 'his art with natures workmanship at strife', 'as if the dead the living should exceed    ', '   so did this horse excel a common one', '   in shape in courage colour pace and bone'], 'Stanza 50': ['roundhoofd shortjointed fetlocks shag and long', 'broad breast full eye small head and nostril wide', 'high crest short ears straight legs and passing strong', 'thin mane thick tail broad buttock tender hide', '   look what a horse should have he did not lack', '   save a proud rider on so proud a back    '], 'Stanza 51': ['sometimes he scuds far off and there he stares', 'anon he starts at stirring of a feather', 'to bid the wind a base he now prepares', 'and wher he run or fly they know not whether  ', '   for through his mane and tail the high wind sings', '   fanning the hairs who wave like featherd wings'], 'Stanza 52': ['he looks upon his love and neighs unto her', 'she answers him as if she knew his mind    ', 'being proud as females are to see him woo her', 'she puts on outward strangeness seems unkind', '   spurns at his love and scorns the heat he feels', '   beating his kind embracements with her heels '], 'Stanza 53': ['then like a melancholy malcontent', 'he vails his tail that like a falling plume', 'cool shadow to his melting buttock lent', 'he stamps and bites the poor flies in his fume', '   his love perceiving how he is enragd', '   grew kinder and his fury was assuagd'], 'Stanza 54': ['his testy master goeth about to take him', 'when lo the unbackd breeder full of fear', 'jealous of catching swiftly doth forsake him', 'with her the horse and left adonis there', '   as they were mad unto the wood they hie them', '   outstripping crows that strive to overfly them   '], 'Stanza 55': ['all swoln with chafing down adonis sits', 'banning his boisterous and unruly beast', 'and now the happy season once more fits', 'that lovesick love by pleading may be blest   ', '   for lovers say the heart hath treble wrong', '   when it is barrd the aidance of the tongue'], 'Stanza 56': ['an oven that is stoppd or river stayd', 'burneth more hotly swelleth with more rage', 'so of concealed sorrow may be said', 'free vent of words loves fire doth assuage', '   but when the hearts attorney once is mute', '   the client breaks as desperate in his suit   '], 'Stanza 57': ['he sees her coming and begins to glow', 'even as a dying coal revives with wind', 'and with his bonnet hides his angry brow', 'looks on the dull earth with disturbed mind', '   taking no notice that she is so nigh', '   for all askance he holds her in his eye'], 'Stanza 58': ['o what a sight it was wistly to view', 'how she came stealing to the wayward boy   ', 'to note the fighting conflict of her hue', 'how white and red each other did destroy', '  but now her cheek was pale and by and by', '   it flashd forth fire as lightning from the sky '], 'Stanza 59': ['now was she just before him as he sat', 'and like a lowly lover down she kneels', 'with one fair hand she heaveth up his hat', 'her other tender hand his fair cheek feels', '   his tenderer cheek receives her soft hands print', '   as apt as newfalln snow takes any dint'], 'Stanza 60': ['o what a war of looks was then between them', 'her eyes petitioners to his eyes suing', 'his eyes saw her eyes as they had not seen them', 'her eyes wood still his eyes disdaind the wooing', '   and all this dumb play had his acts made plain', '   with tears which choruslike her eyes did rain'], 'Stanza 61': ['full gently now she takes him by the hand  ', 'a lily prisond in a gaol of snow', 'or ivory in an alabaster band', 'so white a friend engirts so white a foe   ', '   this beauteous combat wilful and unwilling', '   showd like two silver doves that sit abilling'], 'Stanza 62': ['once more the engine of her thoughts began', 'o fairest mover on this mortal round  ', 'would thou wert as i am and i a man', 'my heart all whole as thine thy heart my wound', '   for one sweet look thy help i would assure thee', '   though nothing but my bodys bane would cure thee'], 'Stanza 63': ['give me my hand saith he why dost thou feel it', 'give me my heart saith she and thou shalt have it', 'o give it me lest thy hard heart do steel it', 'and being steeld soft sighs can never grave it   ', '   then loves deep groans i never shall regard', '   because adonis heart hath made mine hard'], 'Stanza 64': ['for shame he cries let go and let me go', 'my days delight is past my horse is gone', 'and tis your fault i am bereft him so', 'i pray you hence and leave me here alone', '   for all my mind my thought my busy care', '   is how to get my palfrey from the mare  '], 'Stanza 65': ['thus she replies thy palfrey as he should', 'welcomes the warm approach of sweet desire', 'affection is a coal that must be coold', 'else sufferd it will set the heart on fire  ', '   the sea hath bounds but deep desire hath none', '   therefore no marvel though thy horse be gone'], 'Stanza 66': ['how like a jade he stood tied to the tree', 'servilely masterd with a leathern rein    ', 'but when he saw his love his youths fair fee', 'he held such petty bondage in disdain', '   throwing the base thong from his bending crest', '   enfranchising his mouth his back his breast'], 'Stanza 67': ['who sees his truelove in her naked bed', 'teaching the sheets a whiter hue than white', 'but when his glutton eye so full hath fed', 'his other agents aim at like delight   ', '   who is so faint that dare not be so bold', '   to touch the fire the weather being cold'], 'Stanza 68': ['let me excuse thy courser gentle boy', 'and learn of him i heartily beseech thee  ', 'to take advantage on presented joy', 'though i were dumb yet his proceedings teach thee', '   o learn to love the lesson is but plain', '   and once made perfect never lost again  '], 'Stanza 69': ['i know not love quoth he nor will not know it', 'unless it be a boar and then i chase it', 'tis much to borrow and i will not owe it', 'my love to love is love but to disgrace it', '   for i have heard it is a life in death', '   that laughs and weeps and all but with a breath'], 'Stanza 70': ['who wears a garment shapeless and unfinishd', 'who plucks the bud before one leaf put forth   ', 'if springing things be any jot diminishd', 'they wither in their prime prove nothing worth', '   the colt thats backd and burdend being young', '   loseth his pride and never waxeth strong'], 'Stanza 71': ['you hurt my hand with wringing let us part', '     and leave this idle theme this bootless chat', 'remove your siege from my unyielding heart', 'to loves alarms it will not ope the gate  ', '   dismiss your vows your feigned tears your flattery', '   for where a heart is hard they make no battery'], 'Stanza 72': ['what canst thou talk quoth she hast thou a tongue', 'o would thou hadst not or i had no hearing   ', 'thy mermaids voice hath done me double wrong', 'i had my load before now pressd with bearing', '   melodious discord heavenly tune harshsounding', '   ears deepsweet music and hearts deepsore wounding'], 'Stanza 73': ['had i no eyes but ears my ears would love', 'that inward beauty and invisible', '     or were i deaf thy outward parts would move', 'each part in me that were but sensible', '   though neither eyes nor ears to hear nor see', '   yet should i be in love by touching thee'], 'Stanza 74': ['say that the sense of feeling were bereft me', 'and that i could not see nor hear nor touch  ', 'and nothing but the very smell were left me', 'yet would my love to thee be still as much', '   for from the stillitory of thy face excelling', '   comes breath perfumd that breedeth love by smelling'], 'Stanza 75': ['but o what banquet wert thou to the taste', 'being nurse and feeder of the other four', 'would they not wish the feast might ever last', 'and bid suspicion doublelock the door', '   lest jealousy that sour unwelcome guest', '   should by his stealing in disturb the feast   '], 'Stanza 76': ['once more the rubycolourd portal opend', 'which to his speech did honey passage yield', 'like a red morn that ever yet betokend', 'wrack to the seaman tempest to the field', '   sorrow to shepherds woe unto the birds', '   gusts and foul flaws to herdmen and to herds '], 'Stanza 77': ['this ill presage advisedly she marketh', 'even as the wind is hushd before it raineth', 'or as the wolf doth grin before he barketh', 'or as the berry breaks before it staineth  ', '   or like the deadly bullet of a gun', '   his meaning struck her ere his words begun'], 'Stanza 78': ['and at his look she flatly falleth down', 'for looks kill love and love by looks reviveth', 'a smile recures the wounding of a frown', 'but blessed bankrupt that by love so thriveth', '   the silly boy believing she is dead', '   claps her pale cheek till clapping makes it red  '], 'Stanza 79': ['and all amazd brake off his late intent', 'for sharply he did think to reprehend her', 'which cunning love did wittily prevent', 'fair fall the wit that can so well defend her  ', '   for on the grass she lies as she were slain', '   till his breath breatheth life in her again'], 'Stanza 80': ['he wrings her nose he strikes her on the cheeks', 'he bends her fingers holds her pulses hard', 'he chafes her lips a thousand ways he seeks', 'to mend the hurt that his unkindness marrd', '   he kisses her and she by her good will', '   will never rise so he will kiss her still   '], 'Stanza 81': ['the night of sorrow now is turnd to day', 'her two blue windows faintly she upheaveth', 'like the fair sun when in his fresh array', 'he cheers the morn and all the world relieveth', '   and as the bright sun glorifies the sky', '   so is her face illumind with her eye'], 'Stanza 82': ['whose beams upon his hairless face are fixd', 'as if from thence they borrowd all their shine', 'were never four such lamps together mixd', 'had not his clouded with his brows repine', '   but hers which through the crystal tears gave light', '   shone like the moon in water seen by night   '], 'Stanza 83': ['o where am i quoth she in earth or heaven', 'or in the ocean drenchd or in the fire', 'what hour is this or morn or weary even', 'do i delight to die or life desire    ', '   but now i livd and life was deaths annoy', '   but now i died and death was lively joy'], 'Stanza 84': ['o thou didst kill me kill me once again', 'thy eyes shrewd tutor that hard heart of thine   ', 'hath taught them scornful tricks and such disdain', 'that they have murderd this poor heart of mine', '   and these mine eyes true leaders to their queen', '   but for thy piteous lips no more had seen'], 'Stanza 85': ['long may they kiss each other for this cure', 'o never let their crimson liveries wear', 'and as they last their verdure still endure', 'to drive infection from the dangerous year', '   that the stargazers having writ on death', '   may say the plague is banishd by thy breath'], 'Stanza 86': ['pure lips sweet seals in my soft lips imprinted', 'what bargains may i make still to be sealing  ', 'to sell myself i can be well contented', 'so thou wilt buy and pay and use good dealing', '   which purchase if thou make for fear of slips', '   set thy sealmanual on my waxred lips   '], 'Stanza 87': ['a thousand kisses buys my heart from me', 'and pay them at thy leisure one by one', 'what is ten hundred touches unto thee', 'are they not quickly told and quickly gone', '   say for nonpayment that the debt should double', '   is twenty hundred kisses such a trouble'], 'Stanza 88': ['fair queen quoth he if any love you owe me', 'measure my strangeness with my unripe years', 'before i know myself seek not to know me', 'no fisher but the ungrown fry forbears', '   the mellow plum doth fall the green sticks fast', '   or being early pluckd is sour to taste  '], 'Stanza 89': ['look the worlds comforter with weary gait', 'his days hot task hath ended in the west', 'the owl nights herald shrieks tis very late', 'the sheep are gone to fold birds to their nest', '   and coalblack clouds that shadow heavens light', '   do summon us to part and bid good night'], 'Stanza 90': ['now let me say good night and so say you', 'if you will say so you shall have a kiss', 'good night quoth she and ere he says adieu', 'the honey fee of parting tenderd is', '   her arms do lend his neck a sweet embrace', '   incorporate then they seem face grows to face   '], 'Stanza 91': ['till breathless he disjoind and backward drew', 'the heavenly moisture that sweet coral mouth', 'whose precious taste her thirsty lips well knew', 'whereon they surfeit yet complain on drouth   ', '   he with her plenty pressd she faint with dearth', '   their lips together glud fall to the earth'], 'Stanza 92': ['now quick desire hath caught the yielding prey', 'and gluttonlike she feeds yet never filleth  ', 'her lips are conquerors his lips obey', 'paying what ransom the insulter willeth', '   whose vulture thought doth pitch the price so high', '   that she will draw his lips rich treasure dry   '], 'Stanza 93': ['and having felt the sweetness of the spoil', 'with blindfold fury she begins to forage', 'her face doth reek and smoke her blood doth boil', 'and careless lust stirs up a desperate courage ', '   planting oblivion beating reason back', '   forgetting shames pure blush and honours wrack'], 'Stanza 94': ['hot faint and weary with her hard embracing', 'like a wild bird being tamd with too much handling', 'or as the fleetfoot roe thats tird with chasing ', 'or like the froward infant stilld with dandling', '   he now obeys and now no more resisteth', '   while she takes all she can not all she listeth '], 'Stanza 95': ['what wax so frozen but dissolves with tempering', 'and yields at last to every light impression', 'things out of hope are compassd oft with venturing', 'chiefly in love whose leave exceeds commission', '   affection faints not like a palefacd coward', '   but then woos best when most his choice is froward'], 'Stanza 96': ['when he did frown o had she then gave over', 'such nectar from his lips she had not suckd   ', 'foul words and frowns must not repel a lover', 'what though the rose have prickles yet tis pluckd', '   were beauty under twenty locks kept fast', '   yet love breaks through and picks them all at last'], 'Stanza 97': ['for pity now she can no more detain him    ', 'the poor fool prays her that he may depart', 'she is resolvd no longer to restrain him', 'bids him farewell and look well to her heart  ', '   the which by cupids bow she doth protest', '   he carries thence incaged in his breast'], 'Stanza 98': ['sweet boy she says this night ill waste in sorrow', 'for my sick heart commands mine eyes to watch   ', 'tell me loves master shall we meet tomorrow', 'say shall we shall we wilt thou make the match', '   he tells her no tomorrow he intends', '   to hunt the boar with certain of his friends '], 'Stanza 99': ['the boar quoth she whereat a sudden pale', 'like lawn being spread upon the blushing rose', 'usurps her cheeks she trembles at his tale', 'and on his neck her yoking arms she throws', '   she sinketh down still hanging by his neck', '   he on her belly falls she on her back'], 'Stanza 100': ['now is she in the very lists of love', 'her champion mounted for the hot encounter', 'all is imaginary she doth prove', 'he will not manage her although he mount her', '   that worse than tantalus is her annoy', '   to clip elysium and to lack her joy  '], 'Stanza 101': ['even as poor birds deceivd with painted grapes', 'do surfeit by the eye and pine the maw', 'even so she languisheth in her mishaps', 'as those poor birds that helpless berries saw  ', '   the warm effects which she in him finds missing', '   she seeks to kindle with continual kissing'], 'Stanza 102': ['but all in vain good queen it will not be', 'she hath assayd as much as may be provd  ', 'her pleading hath deservd a greater fee', 'shes love she loves and yet she is not lovd', '   fie fie he says you crush me let me go', '   you have no reason to withhold me so    '], 'Stanza 103': ['thou hadst been gone quoth she sweet boy ere this', 'but that thou toldst me thou wouldst hunt the boar', 'o be advisd thou knowst not what it is', 'with javelins point a churlish swine to gore  ', '   whose tushes never sheathd he whetteth still', '   like to a mortal butcher bent to kill'], 'Stanza 104': ['on his bowback he hath a battle set', 'of bristly pikes that ever threat his foes', 'his eyes like glowworms shine when he doth fret', 'his snout digs sepulchres whereer he goes', '   being movd he strikes whateer is in his way', '   and whom he strikes his crooked tushes slay  '], 'Stanza 105': ['his brawny sides with hairy bristles armd', 'are better proof than thy spears point can enter', 'his short thick neck cannot be easily harmd', 'being ireful on the lion he will venture  ', '   the thorny brambles and embracing bushes', '   as fearful of him part through whom he rushes'], 'Stanza 106': ['alas he nought esteems that face of thine', 'to which loves eyes pay tributary gazes   ', 'nor thy soft hands sweet lips and crystal eyne', 'whose full perfection all the world amazes', '   but having thee at vantage wondrous dread', '   would root these beauties as he roots the mead'], 'Stanza 107': ['o let him keep his loathsome cabin still', 'beauty hath nought to do with such foul fiends', 'come not within his danger by thy will', 'they that thrive well take counsel of their friends', '   when thou didst name the boar not to dissemble', '   i feard thy fortune and my joints did tremble'], 'Stanza 108': ['didst thou not mark my face was it not white', 'sawst thou not signs of fear lurk in mine eye ', 'grew i not faint and fell i not downright', 'within my bosom whereon thou dost lie', '   my boding heart pants beats and takes no rest', '   but like an earthquake shakes thee on my breast'], 'Stanza 109': ['for where love reigns disturbing jealousy', 'doth call himself affections sentinel', 'gives false alarms suggesteth mutiny', 'and in a peaceful hour doth cry kill kill   ', '   distempering gentle love in his desire', '   as air and water do abate the fire'], 'Stanza 110': ['this sour informer this batebreeding spy', 'this canker that eats up loves tender spring  ', 'this carrytale dissentious jealousy', 'that sometime true news sometime false doth bring', '   knocks at my heart and whispers in mine ear', '   that if i love thee i thy death should fear '], 'Stanza 111': ['and more than so presenteth to mine eye', 'the picture of an angrychafing boar', 'under whose sharp fangs on his back doth lie', 'an image like thyself all staind with gore   ', '   whose blood upon the fresh flowers being shed', '   doth make them droop with grief and hang the head'], 'Stanza 112': ['what should i do seeing thee so indeed', 'that tremble at the imagination   ', 'the thought of it doth make my faint heart bleed', 'and fear doth teach it divination', '   i prophesy thy death my living sorrow', '   if thou encounter with the boar tomorrow'], 'Stanza 113': ['but if thou needs wilt hunt be ruld by me', 'uncouple at the timorous flying hare', 'or at the fox which lives by subtilty', 'or at the roe which no encounter dare  ', '   pursue these fearful creatures oer the downs', '   and on thy wellbreathd horse keep with thy hound'], 'Stanza 114': ['and when thou hast on foot the purblind hare', 'mark the poor wretch to overshoot his troubles ', 'how he outruns the winds and with what care', 'he cranks and crosses with a thousand doubles', '   the many musits through the which he goes', '   are like a labyrinth to amaze his foes   '], 'Stanza 115': ['sometime he runs among a flock of sheep', 'to make the cunning hounds mistake their smell', 'and sometime where earthdelving conies keep', 'to stop the loud pursuers in their yell    ', '   and sometime sorteth with a herd of deer', '   danger deviseth shifts wit waits on fear'], 'Stanza 116': ['for there his smell with others being mingled ', 'the hot scentsnuffing hounds are driven to doubt', 'ceasing their clamorous cry till they have singled', 'with much ado the cold fault cleanly out', '   then do they spend their mouths echo replies', '   as if another chase were in the skies    '], 'Stanza 117': ['by this poor wat far off upon a hill', 'stands on his hinder legs with listening ear', 'to hearken if his foes pursue him still', 'anon their loud alarums he doth hear   ', 'and now his grief may be compared well', 'to one sore sick that hears the passing bell'], 'Stanza 118': ['then shalt thou see the dewbedabbled wretch', 'turn and return indenting with the way   ', 'each envious briar his weary legs doth scratch', 'each shadow makes him stop each murmur stay', '   for misery is trodden on by many', '   and being low never relievd by any  '], 'Stanza 119': ['lie quietly and hear a little more', 'nay do not struggle for thou shalt not rise', 'to make thee hate the hunting of the boar', 'unlike myself thou hearst me moralize', '   applying this to that and so to so', '   for love can comment upon every woe'], 'Stanza 120': ['where did i leave no matter where quoth he', 'leave me and then the story aptly ends   ', 'the night is spent why what of that quoth she', 'i am quoth he expected of my friends', '   and now tis dark and going i shall fall', '   in night quoth she desire sees best of all '], 'Stanza 121': ['but if thou fall o then imagine this', 'the earth in love with thee thy footing trips', 'and all is but to rob thee of a kiss   ', 'rich preys make true men thieves so do thy lips', '   make modest dian cloudy and forlorn', '   lest she should steal a kiss and die forsworn'], 'Stanza 122': ['now of this dark night i perceive the reason', 'cynthia for shame obscures her silver shine', 'till forging nature be condemnd of treason', 'for stealing moulds from heaven that were divine', '   wherein she framd thee in high heavens despite', '   to shame the sun by day and her by night'], 'Stanza 123': ['and therefore hath she bribd the destinies', 'to cross the curious workmanship of nature', 'to mingle beauty with infirmities', 'and pure perfection with impure defeature  ', '   making it subject to the tyranny', '   of mad mischances and much misery'], 'Stanza 124': ['as burning fevers agues pale and faint', 'lifepoisoning pestilence and frenzies wood', 'the marroweating sickness whose attains', 'disorder breeds by heating of the blood', '   surfeits imposthumes grief and damnd despair', '   swear natures death for framing thee so fair'], 'Stanza 125': ['and not the least of all these maladies', 'but in one minutes fight brings beauty under', 'both favour savour hue and qualities', 'whereat the impartial gazer late did wonder', '   are on the sudden wasted thawd and done', '   as mountainsnow melts with the midday sun'], 'Stanza 126': ['therefore despite of fruitless chastity', 'lovelacking vestals and selfloving nuns  ', 'that on the earth would breed a scarcity', 'and barren dearth of daughters and of sons', '   be prodigal the lamp that burns by night', '   dries up his oil to lend the world his light '], 'Stanza 127': ['what is thy body but a swallowing grave', 'seeming to bury that posterity', 'which by the rights of time thou needs must have', 'if thou destroy them not in dark obscurity', '   if so the world will hold thee in disdain', '   sith in thy pride so fair a hope is slain'], 'Stanza 128': [' ', 'so in thyself thyself art made away', 'a mischief worse than civil homebred strife   ', 'or theirs whose desperate hands themselves do slay', 'or butchersire that reeves his son of life', '   foulcankering rust the hidden treasure frets', '   but gold thats put to use more gold begets '], 'Stanza 129': ['nay then quoth adon you will fall again', 'into your idle overhandled theme', 'the kiss i gave you is bestowd in vain', 'and all in vain you strive against the stream  ', '   for by this blackfacd night desires foul nurse', '   your treatise makes me like you worse and worse'], 'Stanza 130': ['if love have lent you twenty thousand tongues', 'and every tongue more moving than your own', 'bewitching like the wanton mermaids songs', 'yet from mine ear the tempting tune is blown', '   for know my heart stands armed in mine ear', '   and will not let a false sound enter there   '], 'Stanza 131': ['lest the deceiving harmony should run', 'into the quiet closure of my breast', 'and then my little heart were quite undone', 'in his bedchamber to be barrd of rest', '   no lady no my heart longs not to groan', '   but soundly sleeps while now it sleeps alone'], 'Stanza 132': ['what have you urgd that i cannot reprove', 'the path is smooth that leadeth on to danger   ', 'i hate not love but your device in love', 'that lends embracements unto every stranger', '   you do it for increase o strange excuse', '   when reason is the bawd to lusts abuse  '], 'Stanza 133': ['call it not love for love to heaven is fled', 'since sweating lust on earth usurpd his name', 'under whose simple semblance he hath fed', 'upon fresh beauty blotting it with blame  ', '   which the hot tyrant stains and soon bereaves', '   as caterpillars do the tender leaves'], 'Stanza 134': ['love comforteth like sunshine after rain', 'but lusts effect is tempest after sun', 'loves gentle spring doth always fresh remain', 'lusts winter comes ere summer half be done', '   love surfeits not lust like a glutton dies', '   love is all truth lust full of forged lies  '], 'Stanza 135': ['more i could tell but more i dare not say', 'the text is old the orator too green', 'therefore in sadness now i will away', 'my face is full of shame my heart of teen', '   mine ears that to your wanton talk attended', '   do burn themselves for having so offended'], 'Stanza 136': ['with this he breaketh from the sweet embrace', 'of those fair arms which bound him to her breast', 'and homeward through the dark laund runs apace', 'leaves love upon her back deeply distressd', '   look how a bright star shooteth from the sky', '   so glides he in the night from venus eye'], 'Stanza 137': ['which after him she darts as one on shore', 'gazing upon a lateembarked friend', 'till the wild waves will have him seen no more', 'whose ridges with the meeting clouds contend   ', '   so did the merciless and pitchy night', '   fold in the object that did feed her sight'], 'Stanza 138': ['whereat amazd as one that unaware', 'hath droppd a precious jewel in the flood', 'or stonishd as nightwanderers often are', 'their light blown out in some mistrustful wood', '   even so confounded in the dark she lay', '   having lost the fair discovery of her way'], 'Stanza 139': ['and now she beats her heart whereat it groans', 'that all the neighbour caves as seeming troubled', 'make verbal repetition of her moans', 'passion on passion deeply is redoubled', '   ay me she cries and twenty times woe woe', '   and twenty echoes twenty times cry so'], 'Stanza 140': ['she marking them begins a wailing note', 'and sings extemporally a woeful ditty  ', 'how love makes young men thrall and old men dote', 'how love is wise in folly foolishwitty', '   her heavy anthem still concludes in woe', '   and still the choir of echoes answer so  '], 'Stanza 141': ['her song was tedious and outwore the night', 'for lovers hours are long though seeming short', 'if pleasd themselves others they think delight', 'in such like circumstance with such like sport', '   their copious stories oftentimes begun', '   end without audience and are never done'], 'Stanza 142': ['for who hath she to spend the night withal', 'but idle sounds resembling parasites   ', 'like shrilltongud tapsters answering every call', 'soothing the humour of fantastic wits', '   she says tis so they answer all tis so', '   and would say after her if she said no'], 'Stanza 143': ['lo here the gentle lark weary of rest', 'from his moist cabinet mounts up on high', 'and wakes the morning from whose silver breast', 'the sun ariseth in his majesty    ', '   who doth the world so gloriously behold', '   that cedartops and hills seem burnishd gold'], 'Stanza 144': ['venus salutes him with this fair good morrow', 'o thou clear god and patron of all light', 'from whom each lamp and shining star doth borrow', 'the beauteous influence that makes him bright', '   there lives a son that suckd an earthly mother', '   may lend thee light as thou dost lend to other'], 'Stanza 145': ['this said she hasteth to a myrtle grove   ', 'musing the morning is so much oerworn', 'and yet she hears no tidings of her love', 'she hearkens for his hounds and for his horn   ', '   anon she hears them chant it lustily', '   and all in haste she coasteth to the cry'], 'Stanza 146': ['and as she runs the bushes in the way', 'some catch her by the neck some kiss her face ', 'some twine about her thigh to make her stay', 'she wildly breaketh from their strict embrace', '   like a milch doe whose swelling dugs do ache', '   hasting to feed her fawn hid in some brake   '], 'Stanza 147': ['by this she hears the hounds are at a bay', 'whereat she starts like one that spies an adder', 'wreathd up in fatal folds just in his way', 'the fear whereof doth make him shake and shudder', '   even so the timorous yelping of the hounds', '   appals her senses and her spirit confounds'], 'Stanza 148': ['for now she knows it is no gentle chase', 'but the blunt boar rough bear or lion proud  ', 'because the cry remaineth in one place', 'wilere fearfully the dogs exclaim aloud', '   finding their enemy to be so curst', '   they all strain courtesy who shall cope him first'], 'Stanza 149': ['this dismal cry rings sadly in her ear', 'througll which it enters to surprise her heart', 'who overcome by doubt and bloodless fear', 'with coldpale weakness numbs each feeling part', '   like soldiers when their captain once doth yield', '   they basely fly and dare not stay the field'], 'Stanza 150': ['thus stands she in a trembling ecstasy', 'till cheering up her senses sore dismayd', 'she tells them tis a causeless fantasy', 'and childish error that they are afraid', '   bids them leave quaking bids them fear no more', '   and with that word she spied the hunted boar'], 'Stanza 151': ['whose frothy mouth bepainted all with red  ', 'like milk and blood being mingled both together', 'a second fear through all her sinews spread', 'which madly hurries her she knows not whither  ', '   this way she runs and now she will no further', '   but back retires to rate the boar for murther'], 'Stanza 152': ['a thousand spleens bear her a thousand ways', 'she treads the path that she untreads again', 'her more than haste is mated with delays', 'like the proceedings of a drunken brain', '   full of respects yet nought at all respecting', '   in hand with all things nought at all effecting'], 'Stanza 153': ['here kenneld in a brake she finds a hound', 'and asks the weary caitiff for his master', 'and there another licking of his wound', 'gainst venomd sores the only sovereign plaster', '   and here she meets another sadly scowling', '   to whom she speaks and he replies with howling'], 'Stanza 154': ['when he hath ceasd his illresounding noise', 'another flapmouthd mourner black and grim   ', 'against the welkin volleys out his voice', 'another and another answer him', '   clapping their proud tails to the ground below', '   shaking their scratchd ears bleeding as they go'], 'Stanza 155': ['look how the worlds poor people are amazd', 'at apparitions signs and prodigies', 'whereon with fearful eyes they long have gazd', 'infusing them with dreadful prophecies', '   so she at these sad sighs draws up her breath', '   and sighing it again exclaims on death'], 'Stanza 156': ['hardfavourd tyrant ugly meagre lean  ', 'hateful divorce of lovethus chides she death', 'grimgrinning ghost earths worm what dost thou mean', 'to stifle beauty and to steal his breath', '   who when he livd his breath and beauty set', '   gloss on the rose smell to the violet   '], 'Stanza 157': ['if he be dead o no it cannot be', 'seeing his beauty thou shouldst strike at it', 'o yes it may thou hast no eyes to see', 'but hatefully at random dost thou hit  ', '   thy mark is feeble age but thy false dart', '   mistakes that aim and cleaves an infants heart'], 'Stanza 158': ['hadst thou but bid beware then he had spoke', 'and hearing him thy power had lost his power ', '     the destinies will curse thee for this stroke', 'they bid thee crop a weed thou pluckst a flower', '   loves golden arrow at him shoull have fled', '   and not deaths ebon dart to strike him dead'], 'Stanza 159': ['dost thou drink tears that thou provokst such weeping', 'what may a heavy groan advantage thee', 'why hast thou cast into eternal sleeping', 'those eyes that taught all other eyes to see   ', '   now nature cares not for thy mortal vigour', '   since her best work is ruind with thy rigour'], 'Stanza 160': ['here overcome as one full of despair', 'she vaild her eyelids who like sluices stoppd  ', 'the crystal tide that from her two cheeks fair', 'in the sweet channel of her bosom droppd', '   but through the floodgates breaks the silver rain', '   and with his strong course opens them again  '], 'Stanza 161': ['o how her eyes and tears did lend and borrow', 'her eyes seen in the tears tears in her eye', 'both crystals where they viewd each others sorrow', 'sorrow that friendly sighs sought still to dry ', '   but like a stormy day now wind now rain', '   sighs dry her cheeks tears make them wet again'], 'Stanza 162': ['variable passions throng her constant woe', 'as striving who should best become her grief   ', 'all entertaind each passion labours so', 'that every present sorrow seemeth chief', 'but none is best then join they all together', 'like many clouds consulting for foul weather   '], 'Stanza 163': ['by this far off she hears some huntsman holloa', 'a nurses song noer pleasd her babe so well', 'the dire imagination she did follow', 'this sound of hope doth labour to expel    ', '   for now reviving joy bids her rejoice', '   and flatters her it is adonis voice'], 'Stanza 164': ['whereat her tears began to turn their tide', 'being prisond in her eye like pearls in glass', 'yet sometimes falls an orient drop beside', 'which her cheek melts as scorning it should pass', '   to wash the foul face of the sluttish ground', '   who is but drunken when she seemeth drownd'], 'Stanza 165': ['o hardbelieving love how strange it seems', 'not to believe and yet too credulous', 'thy weal and woe are both of them extremes', 'despair and hope make thee ridiculous  ', '   the one doth flatter thee in thoughts unlikely', '   in likely thoughts the other kills thee quickly'], 'Stanza 166': ['now she unweaves the web that she hath wrought', 'adonis lives and death is not to blame    ', 'it was not she that calld him all to naught', 'now she adds honours to his hateful name', '   she clepes him king of graves and grave for kings', '   imperious supreme of all mortal things   '], 'Stanza 167': ['no no quoth she sweet death i did but jest', 'yet pardon me i felt a kind of fear', 'whenas i met the boar that bloody beast', 'which knows no pity but is still severe  ', '   then gentle shadowtruth i must confess', '   i raild on thee fearing my loves decease'], 'Stanza 168': ['tis not my fault the boar provokd my tongue', 'be wreakd on him invisible commander    ', 'tis he foul creature that hath done thee wrong', 'i did but act he s author of my slander', '   grief hath two tongues and never woman yet', '   could rule them both without ten womens wit'], 'Stanza 169': ['thus hoping that adonis is alive', 'her rash suspect sile doth extenuate', 'and that his beauty may the better thrive', 'with death she humbly doth insinuate  ', '   tells him of trophies statues tombs and stories', '   his victories his triumphs and his glories'], 'Stanza 170': ['o jove quoth she how much a fool was i', 'to be of such a weak and silly mind    ', 'to wail his death who lives and must not die', 'till mutual overthrow of mortal kind', '   for he being dead with him is beauty slain', '   and beauty dead black chaos comes again   '], 'Stanza 171': ['fie fie fond love thou art so full of fear', 'as one with treasure laden hemmd with thieves', 'trifles unwitnessed with eye or ear', 'thy coward heart with false bethinking grieves   ', '   even at this word she hears a merry horn', '   whereat she leaps that was but late forlorn'], 'Stanza 172': ['as falcon to the lure away she flies', 'the grass stoops not she treads on it so light   ', 'and in her haste unfortunately spies', 'the foul boars conquest on her fair delight', '   which seen her eyes as murderd with the view', '   like stars ashamd of day themselves withdrew'], 'Stanza 173': ['or as the snail whose tender horns being hit', 'shrinks backwards in his shelly cave with pain', 'and there all smotherd up in shade doth sit', 'long after fearing to creep forth again   ', '   so at his bloody view her eyes are fled', '   into the deep dark cabills of her head'], 'Stanza 174': ['where they resign their office and their light', 'to the disposing of her troubled brain    ', 'who bids them still consort with ugly night', 'and never wound the heart with looks again', '   who like a king perplexed in his throne', '   by their suggestion gives a deadly groan'], 'Stanza 175': ['whereat each tributary subject quakes', 'as when the wind imprisond in the ground', 'struggling for passage earths foundation shakes', 'which with cold terror doth mens minds confound', '   this mutiny each part doth so surprise   ', '   that from their dark beds once more leap her eyes'], 'Stanza 176': ['and being opend threw unwilling light', 'upon the wide wound that the boar had trenchd', 'in his soft flank whose wonted lily white', 'with purple tears that his wound wept was drenchd', '   no flower was nigh no grass herb leaf or weed', '   but stole his blood and seemd with him to bleed'], 'Stanza 177': ['this solemn sympathy poor venus noteth    ', 'over one shoulder doth she hang her head', 'dumbly she passions franticly she doteth', 'she thinks he could not die he is not dead   ', '   her voice is stoppd her joints forget to bow', '   her eyes are mad that they have wept till now'], 'Stanza 178': ['upon his hurt she looks so steadfastly', 'that her sight dazzling makes the wound seem three', 'and then she reprehends her mangling eye  ', 'that makes more gashes where no breach should be', '   his face seems twain each several limb is doubled', '   for oft the eye mistakes the brain being troubled'], 'Stanza 179': ['my tongue cannot express my grief for one', 'and yet quoth she behold two adons dead', 'my sighs are blown away my salt tears gone', 'mine eyes are turnd to fire my heart to lead', '   heavy hearts lead melt at mine eyes red fire', '   so shall i die by drops of hot desire'], 'Stanza 180': ['alas poor world what treasure hast thou lost', 'what face remains alive thats worth the viewing', 'whose tongue is music now what canst thou boast', 'of things long since or anything ensuing', '   the flowers are sweet their colours fresh and trim', '   but truesweet beauty livd and died with him'], 'Stanza 181': ['bonnet nor veil henceforth no creature wear  ', 'nor sun nor wind will ever strive to kiss you', 'having no fair to lose you need not fear', 'the sun doth scorn you and the wind doth hiss you', '   but when adonis livd sun and sharp air', '   lurkd like two thieves to rob him of his fair'], 'Stanza 182': ['and therefore would he put his bonnet on', 'under whose brim the gaudy sun would peep', 'the wind would blow it off and being gone', 'play with his locks then would adonis weep', '   and straight in pity of his tender years', '   they both would strive who first should dry his tears'], 'Stanza 183': ['to see his face the lion walkd along', 'behind some hedge because he would not fear him', 'to recreate himself when he hath sung', 'the tiger would be tame and gently hear him   ', '   if he had spoke the wolf would leave his prey', '   and never fright the silly lamb that day'], 'Stanza 184': ['when he beheld his shadow in the brook', 'the fishes spread on it their golden gills', 'when he was by the birds such pleasure took', 'that some would sing some other in their bills', '   would bring him mulberries and ripered cherries', '   he fed them with his sight they him with berries'], 'Stanza 185': ['but this foul grim and urchinspouted boar ', 'whose downward eye still looketh for a grave', 'neer saw the beauteous livery that he wore', 'witness the entertainment that he gave    ', '   if he did see his face why then i know', '   he thought to kiss him and hath killed him so'], 'Stanza 186': ['tis true tis true thus was adonis slain', 'he ran upon the boar with his sharp spear', 'who did not whet his teeth at him again', 'but by a kiss thought to persuade him there', '   and nuzzling in his flank the loving swine', '   sheathd unaware the tusk in his soft groin '], 'Stanza 187': ['had i been toothd like him i must confess', 'with kissing him i should have killd him first', 'but he is dead and never did he bless', 'my youth with his the more am i accurst', '   with this she falleth in the place she stood', '   and stains her face with his congealed blood'], 'Stanza 188': ['sho looks upon his lips and they are pale', 'she takes him by the hand and that is cold   ', 'she whispers in his ears a heavy tale', 'as if they heard the woeful words she told', 'she lifts the cofferlids that close his eyes', 'where lo two lamps burnt out in darkness lies'], 'Stanza 189': ['two glasses where herself herself beheld   ', 'a thousand times and now no more reflect', 'their virtue lost wherein they late excelld', 'and every beauty robbd of his effect', '   wonder of time quoth she this is my spite', '   that you being dead the day should yet be light'], 'Stanza 190': ['since thou art dead lo here i prophesy', 'sorrow on love hereafter shall attend', 'it shall be waited on with jealousy', 'find sweet beginning but unsavoury end', '   neer settled equally but high or low', '   that all loves pleasure shall not match his woe'], 'Stanza 191': ['it shall be fickle false and full of fraud ', 'bud and be blasted in a breathingwhile', 'the bottom poison and the top oerstrawd', 'with sweets that shall the truest sight beguile   ', '   the strongest body shall it make most weak', '   strike the wise dumb and teach the fool to speak'], 'Stanza 192': ['it shall be sparing and too full of riot', 'teaching decrepit age to tread the measures   ', 'the staring ruffian shall it keep in quiet', 'pluck down the rich enrich the poor with treasures', '   it shall be raging mad and silly mild', '   make the young old the old become a child  '], 'Stanza 193': ['it shall suspect where is no cause of fear', 'it shall not fear where it should most mistrust', 'it shall be merciful and too severe', 'and most deceiving when it seems most just', '   perverse it shall be where it shows most toward', '   put fear to velour courage to the coward'], 'Stanza 194': ['it shall be cause of war and dire events', 'and set dissension twixt the son and sire', 'subject and servile to all discontents', 'as dry combustious matter is to fire', '   sith in his prime death doth my love destroy', '   they that love best their love shall not enjoy '], 'Stanza 195': ['by this the boy that by her side lay killd', 'was melted like a vapour from her sight', 'and in his blood that on the ground lay spilld', 'a purple flower sprung up chequerd with white   ', '   resembling well his pale cheeks and the blood', '   which in round drops upon their whiteness stood'], 'Stanza 196': ['she bows her head the newsprung flower to smell', 'comparing it to her adonis breath    ', 'and says within her bosom it shall dwell', 'since he himself is reft from her by death', '   she drops the stalk and in the breach appears', '   green dropping sap which she compares to tears'], 'Stanza 197': ['poor flower quoth she this was thy fathers guise', 'sweet issue of a more sweetsmelling sire', 'for every little grief to wet his eyes', 'to grow unto himself was his desire   ', '   and so tis shine but know it is as good', '   to wither in my breast as in his blood'], 'Stanza 198': ['here was thy fathers bed here in my breast', 'thou art the next of blood and tis thy right', 'lo in this hollow cradle take thy rest', 'my throbbing heart shall rock thee day and night', '   there shall not be one minute in an hour', '   wherein i will not kiss my sweet loves flower'], 'Stanza 199': ['thus weary of the world away she hies    ', 'and yokes her silver doves by whose swift aid', 'their mistress mounted through the empty skies', 'in her light chariot quickly is conveyd  ', '   holding their course to paphos where their queen', '   means to immure herself and not be seen']}\n"
     ]
    }
   ],
   "source": [
    "# Sample stanza as input\n",
    "poem = read_text_from_file(file_path)\n",
    "\n",
    "\n",
    "\n",
    "print(\"Raw poem text:\")\n",
    "\n",
    "def remove_punctuation(text):\n",
    "    return re.sub(r'[^\\w\\s]', '', text)\n",
    "\n",
    "# Sample stanza as input\n",
    "poem = read_text_from_file(file_path)\n",
    "\n",
    "# Split the poem into stanzas\n",
    "stanzas = poem.strip().split(\"\\n \\n\")\n",
    "\n",
    "# Create a dictionary with stanza numbers as keys\n",
    "stanza_dict = {}\n",
    "\n",
    "# Populate the dictionary\n",
    "for i, stanza in enumerate(stanzas, 1):\n",
    "    # Split the stanza into lines and remove punctuation from each line\n",
    "    lines = [remove_punctuation(line.lower()) for line in stanza.split(\"\\n\")]\n",
    "    stanza_dict[f'Stanza {i}'] = lines\n",
    "\n",
    "print(stanza_dict)\n",
    "\n",
    "\n",
    "\n"
   ]
  },
  {
   "cell_type": "markdown",
   "metadata": {},
   "source": [
    "## Count Red and White words"
   ]
  },
  {
   "cell_type": "code",
   "execution_count": 33,
   "metadata": {},
   "outputs": [],
   "source": [
    "# Lists of words associated with red and white\n",
    "red_words = ['red', 'rose', 'roses', 'fire', 'fiery', 'crimson', 'purple', 'purplecolourd', \n",
    "             'blood', 'bloody', 'rose-cheekd', 'blushd', 'redrose', 'ruby-colourd', 'waxred',\n",
    "             'plum', 'coral', 'blush', 'blushing', 'ripered']\n",
    "white_words = ['white', 'moonlight', 'doves', 'frost' , 'pale', 'silver', \n",
    "               'lily', 'lawn', 'ivory', 'ashypale', 'alabaster', 'whiter', 'frozen', \n",
    "               'milk', 'palefacd', 'coldpale', 'frothy', 'frosty', 'whiteness']\n",
    "# red_words = ['fire', 'coal', 'dry', 'hot', 'warm', 'coals', 'melt', 'burn']\n",
    "# white_words = ['water', 'moisture', 'rain', 'tears', 'dian', 'spring', 'wet', 'cold', 'cool', 'dark' 'moist', 'earth']\n",
    "# Initialize counters\n",
    "stanza_count = 0\n",
    "verse_count = 0\n",
    "\n",
    "# Dictionaries to store indices\n",
    "stanza_indices = {}\n",
    "verse_indices = {}"
   ]
  },
  {
   "cell_type": "code",
   "execution_count": 34,
   "metadata": {},
   "outputs": [
    {
     "name": "stdout",
     "output_type": "stream",
     "text": [
      "['thrice fairer than myself thus she began', 'the fields chief flower sweet above compare   ', 'stain to all nymphs more lovely than a man', 'more white and red than doves or roses are', '   nature that made thee with herself at strife', '   saith that the world hath ending with thy life']\n",
      "['and yet not cloy thy lips with loathd satiety', 'but rather famish them amid their plenty    ', 'making them red and pale with fresh variety', 'ten kisses short as one one long as twenty', '   a summers day will seem an hour but short', '   being wasted in such timebeguiling sport']\n",
      "['over one arm the lusty coursers rein', 'under her other was the tender boy', 'who blushd and pouted in a dull disdain', 'with leaden appetite unapt to toy', '   she red and hot as coals of glowing fire', '   he red for shame but frosty in desire']\n",
      "[' ', 'still she entreats and prettily entreats', 'for to a pretty ear she tunes her tale', 'still is he sullen still he lours and frets', 'twixt crimson shame and anger ashypale    ', '   being red she loves him best and being white', '   her best is betterd with a more delight']\n",
      "[' ', 'still she entreats and prettily entreats', 'for to a pretty ear she tunes her tale', 'still is he sullen still he lours and frets', 'twixt crimson shame and anger ashypale    ', '   being red she loves him best and being white', '   her best is betterd with a more delight']\n",
      "['o what a sight it was wistly to view', 'how she came stealing to the wayward boy   ', 'to note the fighting conflict of her hue', 'how white and red each other did destroy', '  but now her cheek was pale and by and by', '   it flashd forth fire as lightning from the sky ']\n",
      "['and at his look she flatly falleth down', 'for looks kill love and love by looks reviveth', 'a smile recures the wounding of a frown', 'but blessed bankrupt that by love so thriveth', '   the silly boy believing she is dead', '   claps her pale cheek till clapping makes it red  ']\n",
      "['the boar quoth she whereat a sudden pale', 'like lawn being spread upon the blushing rose', 'usurps her cheeks she trembles at his tale', 'and on his neck her yoking arms she throws', '   she sinketh down still hanging by his neck', '   he on her belly falls she on her back']\n",
      "['whose frothy mouth bepainted all with red  ', 'like milk and blood being mingled both together', 'a second fear through all her sinews spread', 'which madly hurries her she knows not whither  ', '   this way she runs and now she will no further', '   but back retires to rate the boar for murther']\n",
      "['whose frothy mouth bepainted all with red  ', 'like milk and blood being mingled both together', 'a second fear through all her sinews spread', 'which madly hurries her she knows not whither  ', '   this way she runs and now she will no further', '   but back retires to rate the boar for murther']\n",
      "['by this the boy that by her side lay killd', 'was melted like a vapour from her sight', 'and in his blood that on the ground lay spilld', 'a purple flower sprung up chequerd with white   ', '   resembling well his pale cheeks and the blood', '   which in round drops upon their whiteness stood']\n",
      "['by this the boy that by her side lay killd', 'was melted like a vapour from her sight', 'and in his blood that on the ground lay spilld', 'a purple flower sprung up chequerd with white   ', '   resembling well his pale cheeks and the blood', '   which in round drops upon their whiteness stood']\n",
      "Stanza indices where both red and white words appear together:\n",
      "{'Stanza 2': [], 'Stanza 4': [], 'Stanza 6': [], 'Stanza 13': [], 'Stanza 58': [], 'Stanza 67': [], 'Stanza 78': [], 'Stanza 99': [], 'Stanza 124': [], 'Stanza 151': [], 'Stanza 176': [], 'Stanza 195': []}\n",
      "Total number of stanzas with both red and white words: 12\n",
      "Verse indices within stanzas where both red and white words appear together:\n",
      "{'Stanza 2': [3], 'Stanza 4': [2], 'Stanza 6': [5], 'Stanza 13': [4, 5], 'Stanza 58': [3], 'Stanza 78': [5], 'Stanza 99': [1], 'Stanza 151': [0, 1], 'Stanza 195': [3, 4]}\n",
      "Total number of verses with both red and white words: 12\n"
     ]
    }
   ],
   "source": [
    "# Iterate over the stanzas\n",
    "for stanza_index, verses in stanza_dict.items():\n",
    "    stanza_contains_red = any(word in red_words for verse in verses for word in verse.split())\n",
    "    stanza_contains_white = any(word in white_words for verse in verses for word in verse.split())\n",
    "    \n",
    "    if stanza_contains_red and stanza_contains_white:\n",
    "        stanza_count += 1\n",
    "        stanza_indices[stanza_index] = []\n",
    "        \n",
    "        # Iterate over the verses within the stanza\n",
    "        for verse_index, verse in enumerate(verses):\n",
    "            contains_red = any(word in red_words for word in verse.split())\n",
    "            contains_white = any(word in white_words for word in verse.split())\n",
    "            \n",
    "            if contains_red and contains_white:\n",
    "                verse_count += 1\n",
    "                if stanza_index not in verse_indices:\n",
    "                    verse_indices[stanza_index] = []\n",
    "                verse_indices[stanza_index].append(verse_index)\n",
    "                print(stanza_dict[stanza_index])\n",
    "\n",
    "# Output results\n",
    "print(\"Stanza indices where both red and white words appear together:\")\n",
    "print(stanza_indices)\n",
    "print(f\"Total number of stanzas with both red and white words: {stanza_count}\")\n",
    "\n",
    "print(\"Verse indices within stanzas where both red and white words appear together:\")\n",
    "print(verse_indices)\n",
    "print(f\"Total number of verses with both red and white words: {verse_count}\")\n"
   ]
  },
  {
   "cell_type": "markdown",
   "metadata": {},
   "source": [
    "## Counting Red and White Separately"
   ]
  },
  {
   "cell_type": "code",
   "execution_count": 37,
   "metadata": {},
   "outputs": [
    {
     "name": "stdout",
     "output_type": "stream",
     "text": [
      "['even as the sun with purplecolourd face', 'had taen his last leave of the weeping morn', 'rosecheekd adonis tried him to the chase', 'hunting he lovd but love he laughd to scorn ', '   sickthoughted venus makes amain unto him', '   and like a boldfacd suitor gins to woo him']\n",
      "Red count 30\n",
      "Red Indices\n",
      "['Stanza 1', 'Stanza 16', 'Stanza 18', 'Stanza 19', 'Stanza 20', 'Stanza 25', 'Stanza 33', 'Stanza 37', 'Stanza 46', 'Stanza 56', 'Stanza 65', 'Stanza 76', 'Stanza 83', 'Stanza 85', 'Stanza 86', 'Stanza 88', 'Stanza 91', 'Stanza 93', 'Stanza 96', 'Stanza 109', 'Stanza 111', 'Stanza 156', 'Stanza 167', 'Stanza 173', 'Stanza 179', 'Stanza 184', 'Stanza 187', 'Stanza 194', 'Stanza 197', 'Stanza 198']\n",
      "White count: 12\n",
      "White Indices\n",
      "['Stanza 26', 'Stanza 38', 'Stanza 39', 'Stanza 61', 'Stanza 95', 'Stanza 108', 'Stanza 122', 'Stanza 143', 'Stanza 149', 'Stanza 160', 'Stanza 188', 'Stanza 199']\n"
     ]
    }
   ],
   "source": [
    "red_count = 0\n",
    "white_count = 0\n",
    "\n",
    "red_indices = []\n",
    "white_indices = []\n",
    "\n",
    "word_pattern = re.compile(r\"\\b[\\w'-]+\\b\")\n",
    "\n",
    "# Iterate over the stanzas\n",
    "for stanza_index, verses in stanza_dict.items():\n",
    "    stanza_red = any(\n",
    "        word in red_words \n",
    "        for verse in verses \n",
    "        for word in word_pattern.findall(verse.lower())\n",
    "    )\n",
    "    stanza_white = any(\n",
    "        word in white_words \n",
    "        for verse in verses \n",
    "        for word in word_pattern.findall(verse.lower())\n",
    "    )\n",
    "\n",
    "\n",
    "    if stanza_red and not stanza_white:\n",
    "        red_count += 1\n",
    "        red_indices.append(stanza_index)\n",
    "    if stanza_white and not stanza_red:\n",
    "        white_count += 1\n",
    "        white_indices.append(stanza_index)\n",
    "\n",
    "print(stanza_dict['Stanza 1'])\n",
    "print(f'Red count {red_count}')\n",
    "print('Red Indices')\n",
    "print(red_indices)\n",
    "print(f'White count: {white_count}')\n",
    "print('White Indices')\n",
    "print(white_indices)"
   ]
  },
  {
   "cell_type": "code",
   "execution_count": null,
   "metadata": {},
   "outputs": [],
   "source": []
  }
 ],
 "metadata": {
  "kernelspec": {
   "display_name": "Python 3",
   "language": "python",
   "name": "python3"
  },
  "language_info": {
   "codemirror_mode": {
    "name": "ipython",
    "version": 3
   },
   "file_extension": ".py",
   "mimetype": "text/x-python",
   "name": "python",
   "nbconvert_exporter": "python",
   "pygments_lexer": "ipython3",
   "version": "3.12.5"
  }
 },
 "nbformat": 4,
 "nbformat_minor": 2
}
