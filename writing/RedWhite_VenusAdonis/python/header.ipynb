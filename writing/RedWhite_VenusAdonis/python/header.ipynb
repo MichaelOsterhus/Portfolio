{
 "cells": [
  {
   "cell_type": "markdown",
   "metadata": {},
   "source": [
    "## extract headers"
   ]
  },
  {
   "cell_type": "code",
   "execution_count": 1,
   "metadata": {},
   "outputs": [],
   "source": [
    "from bs4 import BeautifulSoup"
   ]
  },
  {
   "cell_type": "code",
   "execution_count": 5,
   "metadata": {},
   "outputs": [
    {
     "name": "stdout",
     "output_type": "stream",
     "text": [
      "['Contents', 'Surveying Alchemical Symbolism ', \"Shakespeare's\", \"Why 'Venus and Adonis' for Analysis\", \"Adonis: the Field's Chief Flower\", 'The Orphic Hymn to Adonis (2nd - 3rd century CE)', 'Adonis, Celestial Sun or Terrestrial', 'Venus: the Magna Mater', 'The Orphic Hymn to Aphrodite (Venus)', 'A Brief History', 'A Lamentation for Tammuz', 'A Philosophy of Fire: the Interdependence of Love and Wisdom', \"Venus and Adonis in Ovid's 'Metamorphoses'\", 'Transition', 'Overview of Alchemy', 'Red and White in Other Contexts', '1. Red and White in Renaissance Love Poetry', '2. Red and White in English Regalia and Heraldry', 'Searching Out the Root of the Red King and White Queen', 'A Concoction of Art and Alchemy', 'The Challenger Mars', 'Mars', 'Venus', 'Symbols of the Royal Couple', 'Sulfur', 'Mercury', 'Sun', 'Moon', 'Nitre', 'Salt', 'Fire', 'Water', 'Mars and Venus in Paint', \"A Case For Cinnabar as the Original Philosopher's Stone\", 'Pomegranate Around the World (according to ChatGPT)', 'Summing the Account', \"Shakespeare's Inspiration and Introduction to the Poem\", 'Salmacis and Hermaphroditus', 'Passing Notes, Ovid to Shake', 'Paintings of Salmacis and Hermaphroditus', 'Analysis of the Poem', 'Opposites Unite ', \"Pairs of opposites found in 'Venus and Adonis'\", 'Color Comparison', '199 Stanzas on the Wall', 'Red and White Stanzas', 'Stanza 2', 'Stanza 4', 'Stanza 6', 'Stanza 13', 'Stanza 58', 'Stanza 78', 'Stanza 99', 'Stanza 151', 'Stanza 195']\n"
     ]
    }
   ],
   "source": [
    "file_path = '../index.html'\n",
    "\n",
    "# Open the file and read its contents\n",
    "with open(file_path, 'r', encoding='utf-8') as file:\n",
    "    html_content = file.read()\n",
    "\n",
    "soup = BeautifulSoup(html_content, 'html.parser')\n",
    "\n",
    "# Find all <h2> and <h3> elements\n",
    "headings = soup.find_all(['h2', 'h3'])\n",
    "\n",
    "# Create a list with their text content\n",
    "heading_texts = [heading.get_text() for heading in headings]\n",
    "\n",
    "# Print the list\n",
    "print(heading_texts)"
   ]
  }
 ],
 "metadata": {
  "kernelspec": {
   "display_name": "Python 3",
   "language": "python",
   "name": "python3"
  },
  "language_info": {
   "codemirror_mode": {
    "name": "ipython",
    "version": 3
   },
   "file_extension": ".py",
   "mimetype": "text/x-python",
   "name": "python",
   "nbconvert_exporter": "python",
   "pygments_lexer": "ipython3",
   "version": "3.12.5"
  }
 },
 "nbformat": 4,
 "nbformat_minor": 2
}
